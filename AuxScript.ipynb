{
 "cells": [
  {
   "cell_type": "code",
   "execution_count": 7,
   "metadata": {},
   "outputs": [
    {
     "data": {
      "text/plain": [
       "-1"
      ]
     },
     "execution_count": 7,
     "metadata": {},
     "output_type": "execute_result"
    }
   ],
   "source": [
    "tple = ('a','b')\n",
    "tple\n",
    "lst = list(tple)\n",
    "lst\n",
    "\n",
    "Mn = min([1,2,3,4,5,-1])\n",
    "Mn"
   ]
  },
  {
   "cell_type": "code",
   "execution_count": 27,
   "metadata": {},
   "outputs": [
    {
     "name": "stdout",
     "output_type": "stream",
     "text": [
      "El valor de la serie en 30 es 514229\n"
     ]
    }
   ],
   "source": [
    "n = 30\n",
    "if n ==1:\n",
    "    print(f'El valor de la serie en {n} es 0')\n",
    "elif n ==2:\n",
    "    print(f'El valor de la serie en {n} es 1')\n",
    "elif n>2:\n",
    "    num1, num2 = 0,1\n",
    "    for i in range(n-2): num1,num2 = num2, num1+num2\n",
    "    print(f'El valor de la serie en {n} es {num2}')\n",
    "else:\n",
    "    print('Input incorrecto')\n",
    "            \n",
    "        "
   ]
  }
 ],
 "metadata": {
  "kernelspec": {
   "display_name": "Python 3",
   "language": "python",
   "name": "python3"
  },
  "language_info": {
   "codemirror_mode": {
    "name": "ipython",
    "version": 3
   },
   "file_extension": ".py",
   "mimetype": "text/x-python",
   "name": "python",
   "nbconvert_exporter": "python",
   "pygments_lexer": "ipython3",
   "version": "3.10.12"
  }
 },
 "nbformat": 4,
 "nbformat_minor": 2
}
